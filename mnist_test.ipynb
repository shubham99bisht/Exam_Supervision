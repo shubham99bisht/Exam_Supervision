{
 "cells": [
  {
   "cell_type": "code",
   "execution_count": 19,
   "metadata": {},
   "outputs": [
    {
     "name": "stdout",
     "output_type": "stream",
     "text": [
      "(42000, 785)\n"
     ]
    }
   ],
   "source": [
    "import pandas as pd\n",
    "import io\n",
    "data = pd.read_csv(\"train.csv\")\n",
    "data= data.values\n",
    "print(data.shape)"
   ]
  },
  {
   "cell_type": "code",
   "execution_count": 21,
   "metadata": {},
   "outputs": [
    {
     "name": "stdout",
     "output_type": "stream",
     "text": [
      "[1 0 0 0 0 0 0 0 0 0 0 0 0 0 0]\n",
      "(42000, 1, 28, 28)\n",
      "(42000, 10)\n"
     ]
    }
   ],
   "source": [
    "from keras.utils import np_utils\n",
    "print(data[0][:15])\n",
    "\n",
    "train_data=data[:,1:]\n",
    "train_data = train_data.reshape(42000, 1, 28, 28).astype('float32')\n",
    "train_data = train_data / 255\n",
    "\n",
    "train_label=data[:,0]\n",
    "train_label = np_utils.to_categorical(train_label)\n",
    "\n",
    "print(train_data.shape)\n",
    "print(train_label.shape)"
   ]
  },
  {
   "cell_type": "code",
   "execution_count": 23,
   "metadata": {},
   "outputs": [
    {
     "name": "stdout",
     "output_type": "stream",
     "text": [
      "Loaded model from disk\n",
      "acc: 99.86%\n"
     ]
    }
   ],
   "source": [
    "from keras.models import model_from_json\n",
    "json_file = open('model.json', 'r')\n",
    "loaded_model_json = json_file.read()\n",
    "json_file.close()\n",
    "loaded_model = model_from_json(loaded_model_json)\n",
    "# load weights into new model\n",
    "loaded_model.load_weights(\"model.h5\")\n",
    "print(\"Loaded model from disk\")\n",
    " \n",
    "# evaluate loaded model on test data\n",
    "loaded_model.compile(loss='binary_crossentropy', optimizer='rmsprop', metrics=['accuracy'])\n",
    "score = loaded_model.evaluate(train_data, train_label, verbose=0)\n",
    "print(\"%s: %.2f%%\" % (loaded_model.metrics_names[1], score[1]*100))"
   ]
  },
  {
   "cell_type": "code",
   "execution_count": 25,
   "metadata": {},
   "outputs": [
    {
     "name": "stdout",
     "output_type": "stream",
     "text": [
      "(28000, 784)\n"
     ]
    }
   ],
   "source": [
    "data2 = pd.read_csv(\"test.csv\")\n",
    "data2= data2.values\n",
    "print(data2.shape)"
   ]
  },
  {
   "cell_type": "code",
   "execution_count": 27,
   "metadata": {},
   "outputs": [
    {
     "name": "stdout",
     "output_type": "stream",
     "text": [
      "[1 0 0 0 0 0 0 0 0 0 0 0 0 0 0]\n",
      "(28000, 1, 28, 28)\n"
     ]
    }
   ],
   "source": [
    "from keras.utils import np_utils\n",
    "print(data[0][:15])\n",
    "\n",
    "test_data=data2\n",
    "test_data = test_data.reshape(28000, 1, 28, 28).astype('float32')\n",
    "test_data = test_data / 255\n",
    "\n",
    "print(test_data.shape)"
   ]
  },
  {
   "cell_type": "code",
   "execution_count": 51,
   "metadata": {},
   "outputs": [
    {
     "name": "stdout",
     "output_type": "stream",
     "text": [
      "[[2.06908322e-08 2.28555219e-09 9.99994040e-01 4.67914879e-06\n",
      "  4.69367323e-10 3.96817648e-12 4.56241512e-12 1.32094397e-06\n",
      "  6.05513195e-09 8.17088119e-10]\n",
      " [9.99796808e-01 1.20155420e-07 1.57772054e-04 7.36794391e-06\n",
      "  4.87774560e-06 1.20087725e-05 3.86682541e-06 2.11719339e-06\n",
      "  2.15548141e-07 1.48749432e-05]\n",
      " [1.11982523e-07 4.22427433e-07 3.22854670e-04 8.70094227e-05\n",
      "  1.17768382e-03 1.58325256e-05 4.47135555e-08 9.16535282e-05\n",
      "  5.71788871e-04 9.97732639e-01]\n",
      " [1.63160022e-02 2.91729498e-06 1.31122014e-02 2.31510773e-03\n",
      "  8.21162888e-04 2.44352759e-05 1.58306386e-04 2.07273406e-04\n",
      "  7.62489799e-04 9.66280103e-01]\n",
      " [1.87023397e-09 6.72221816e-08 1.12489317e-04 9.99881744e-01\n",
      "  1.76627213e-10 1.70095547e-07 4.48754020e-11 1.68816371e-06\n",
      "  3.78018785e-06 6.22363174e-08]\n",
      " [4.43214532e-09 3.43833584e-08 1.21495941e-05 2.83855567e-04\n",
      "  5.17557928e-05 7.47342099e-08 3.68243019e-10 9.95444775e-01\n",
      "  2.88918795e-06 4.20443946e-03]\n",
      " [9.99998331e-01 4.92895481e-12 1.53041083e-06 3.79921858e-11\n",
      "  4.13832844e-08 8.53109472e-10 1.90195067e-07 4.34322001e-09\n",
      "  8.84264306e-09 4.75206150e-08]\n",
      " [4.04630133e-13 3.54420937e-09 1.38167920e-07 9.99999881e-01\n",
      "  1.75821662e-12 5.92637228e-09 1.70872486e-15 3.18384714e-08\n",
      "  7.06908074e-11 5.53027277e-08]\n",
      " [9.99991179e-01 1.79677634e-10 8.09281300e-06 3.00122327e-09\n",
      "  3.07622585e-08 2.79164055e-07 2.61213501e-07 4.30053184e-08\n",
      "  9.29753874e-09 8.21060979e-08]\n",
      " [2.13058771e-14 1.79833037e-08 4.37594760e-09 9.99998212e-01\n",
      "  3.53021909e-12 1.75692173e-06 1.80589539e-12 7.68423369e-09\n",
      "  1.10568721e-09 2.40616904e-09]] (28000, 10)\n"
     ]
    }
   ],
   "source": [
    "pred=loaded_model.predict(test_data)\n",
    "print(pred[:10],pred.shape)"
   ]
  },
  {
   "cell_type": "code",
   "execution_count": 75,
   "metadata": {},
   "outputs": [],
   "source": [
    "#pred=pred.tolist()\n",
    "li=list(map(lambda i :i.index(max(i)),pred))\n",
    "li2=[[i+1,j] for i,j in enumerate(li)]"
   ]
  },
  {
   "cell_type": "code",
   "execution_count": 76,
   "metadata": {},
   "outputs": [
    {
     "name": "stdout",
     "output_type": "stream",
     "text": [
      "[[1, 2], [2, 0], [3, 9], [4, 9], [5, 3], [6, 7], [7, 0], [8, 3], [9, 0], [10, 3]] 28000\n"
     ]
    }
   ],
   "source": [
    "print(li2[:10],len(li2))"
   ]
  },
  {
   "cell_type": "code",
   "execution_count": 77,
   "metadata": {},
   "outputs": [
    {
     "name": "stdout",
     "output_type": "stream",
     "text": [
      "<class 'list'>\n"
     ]
    }
   ],
   "source": [
    "import csv\n",
    "print(type(li2))\n",
    "\n",
    "with open('submission.csv', 'w') as csvFile:\n",
    "    writer = csv.writer(csvFile)\n",
    "    writer.writerow([\"ImageId\" ,\"Label\"])\n",
    "    writer.writerows(li2)\n",
    "\n",
    "csvFile.close()\n"
   ]
  },
  {
   "cell_type": "code",
   "execution_count": null,
   "metadata": {
    "collapsed": true
   },
   "outputs": [],
   "source": []
  }
 ],
 "metadata": {
  "kernelspec": {
   "display_name": "Python 3",
   "language": "python",
   "name": "python3"
  },
  "language_info": {
   "codemirror_mode": {
    "name": "ipython",
    "version": 3
   },
   "file_extension": ".py",
   "mimetype": "text/x-python",
   "name": "python",
   "nbconvert_exporter": "python",
   "pygments_lexer": "ipython3",
   "version": "3.6.3"
  }
 },
 "nbformat": 4,
 "nbformat_minor": 2
}
